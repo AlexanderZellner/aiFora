{
 "cells": [
  {
   "cell_type": "code",
   "execution_count": 16,
   "id": "d0feb103-5e8c-4b6c-aec5-da9406cd54be",
   "metadata": {},
   "outputs": [],
   "source": [
    "%matplotlib inline\n",
    "# Load all necessary packages\n",
    "import sys\n",
    "sys.path.insert(1, \"../\")  \n",
    "\n",
    "import numpy as np\n",
    "np.random.seed(0)\n",
    "from tqdm import tqdm\n",
    "from collections import OrderedDict\n",
    "\n",
    "from aif360.datasets import CompasDataset\n",
    "from aif360.metrics import BinaryLabelDatasetMetric\n",
    "from aif360.metrics import ClassificationMetric\n",
    "from aif360.algorithms.preprocessing import Reweighing\n",
    "\n",
    "# Scalers\n",
    "from sklearn.preprocessing import StandardScaler\n",
    "\n",
    "# Classifiers\n",
    "from sklearn.linear_model import LogisticRegression\n",
    "\n",
    "from IPython.display import Markdown, display\n",
    "\n",
    "# Utilities\n",
    "from aif360.utils.general_utils import compute_metrics\n",
    "from aif360.utils.classifier_metrics import ClassifierMetricUtils\n",
    "\n",
    "import matplotlib.pyplot as plt\n",
    "\n",
    "# Explainers\n",
    "from aif360.explainers import MetricTextExplainer"
   ]
  },
  {
   "cell_type": "code",
   "execution_count": 10,
   "id": "5936a546-879d-450c-be89-bcbcac26ec8d",
   "metadata": {},
   "outputs": [
    {
     "name": "stderr",
     "output_type": "stream",
     "text": [
      "WARNING:root:Missing Data: 5 rows removed from CompasDataset.\n"
     ]
    }
   ],
   "source": [
    "dataset_orig = CompasDataset(\n",
    "    protected_attribute_names=['sex'],\n",
    "    privileged_classes=[['Female']],\n",
    "    features_to_drop=['race', 'age']\n",
    ")\n",
    "\n",
    "dataset_orig_train, dataset_orig_val, dataset_orig_test = dataset_orig.split([0.5,0.8], shuffle=True)\n",
    "\n",
    "privileged_groups = [{'sex': 1}]\n",
    "unprivileged_groups = [{'sex': 0}]"
   ]
  },
  {
   "cell_type": "code",
   "execution_count": 11,
   "id": "182d4b75-e0b1-413a-bb09-490a3d58e2b4",
   "metadata": {},
   "outputs": [],
   "source": [
    "scale_orig = StandardScaler()\n",
    "X_train = scale_orig.fit_transform(dataset_orig_train.features)\n",
    "y_train = dataset_orig_train.labels.ravel()\n",
    "w_train = dataset_orig_train.instance_weights.ravel()\n",
    "\n",
    "lmod = LogisticRegression()\n",
    "lmod.fit(X_train, y_train, \n",
    "         sample_weight=dataset_orig_train.instance_weights)\n",
    "y_train_pred = lmod.predict(X_train)\n",
    "\n",
    "# positive class index\n",
    "pos_ind = np.where(lmod.classes_ == dataset_orig_train.favorable_label)[0][0]\n",
    "\n",
    "dataset_orig_train_pred = dataset_orig_train.copy()\n",
    "dataset_orig_train_pred.labels = y_train_pred"
   ]
  },
  {
   "cell_type": "code",
   "execution_count": 12,
   "id": "204a4c84-c675-4c1d-a97d-d79316361663",
   "metadata": {},
   "outputs": [],
   "source": [
    "dataset_orig_valid_pred = dataset_orig_val.copy(deepcopy=True)\n",
    "X_valid = scale_orig.transform(dataset_orig_valid_pred.features)\n",
    "y_valid = dataset_orig_valid_pred.labels\n",
    "dataset_orig_valid_pred.scores = lmod.predict_proba(X_valid)[:,pos_ind].reshape(-1,1)\n",
    "\n",
    "dataset_orig_test_pred = dataset_orig_test.copy(deepcopy=True)\n",
    "X_test = scale_orig.transform(dataset_orig_test_pred.features)\n",
    "y_test = dataset_orig_test_pred.labels\n",
    "dataset_orig_test_pred.scores = lmod.predict_proba(X_test)[:,pos_ind].reshape(-1,1)"
   ]
  },
  {
   "cell_type": "code",
   "execution_count": 19,
   "id": "0d4c7954-2a5b-4a82-b3a0-8f9b640da41f",
   "metadata": {},
   "outputs": [
    {
     "name": "stdout",
     "output_type": "stream",
     "text": [
      "{'TP': 989.0, 'FP': 817.0, 'TN': 27.0, 'FN': 17.0}\n",
      "{'TP': 988.0, 'FP': 812.0, 'TN': 32.0, 'FN': 18.0}\n",
      "{'TP': 988.0, 'FP': 806.0, 'TN': 38.0, 'FN': 18.0}\n",
      "{'TP': 988.0, 'FP': 803.0, 'TN': 41.0, 'FN': 18.0}\n",
      "{'TP': 986.0, 'FP': 791.0, 'TN': 53.0, 'FN': 20.0}\n",
      "{'TP': 985.0, 'FP': 785.0, 'TN': 59.0, 'FN': 21.0}\n",
      "{'TP': 985.0, 'FP': 781.0, 'TN': 63.0, 'FN': 21.0}\n",
      "{'TP': 985.0, 'FP': 775.0, 'TN': 69.0, 'FN': 21.0}\n",
      "{'TP': 982.0, 'FP': 770.0, 'TN': 74.0, 'FN': 24.0}\n",
      "{'TP': 981.0, 'FP': 764.0, 'TN': 80.0, 'FN': 25.0}\n",
      "{'TP': 979.0, 'FP': 759.0, 'TN': 85.0, 'FN': 27.0}\n",
      "{'TP': 979.0, 'FP': 759.0, 'TN': 85.0, 'FN': 27.0}\n",
      "{'TP': 978.0, 'FP': 754.0, 'TN': 90.0, 'FN': 28.0}\n",
      "{'TP': 977.0, 'FP': 747.0, 'TN': 97.0, 'FN': 29.0}\n",
      "{'TP': 975.0, 'FP': 742.0, 'TN': 102.0, 'FN': 31.0}\n",
      "{'TP': 975.0, 'FP': 735.0, 'TN': 109.0, 'FN': 31.0}\n",
      "{'TP': 975.0, 'FP': 728.0, 'TN': 116.0, 'FN': 31.0}\n",
      "{'TP': 972.0, 'FP': 721.0, 'TN': 123.0, 'FN': 34.0}\n",
      "{'TP': 970.0, 'FP': 713.0, 'TN': 131.0, 'FN': 36.0}\n",
      "{'TP': 970.0, 'FP': 707.0, 'TN': 137.0, 'FN': 36.0}\n",
      "{'TP': 969.0, 'FP': 704.0, 'TN': 140.0, 'FN': 37.0}\n",
      "{'TP': 966.0, 'FP': 699.0, 'TN': 145.0, 'FN': 40.0}\n",
      "{'TP': 966.0, 'FP': 688.0, 'TN': 156.0, 'FN': 40.0}\n",
      "{'TP': 963.0, 'FP': 683.0, 'TN': 161.0, 'FN': 43.0}\n",
      "{'TP': 963.0, 'FP': 675.0, 'TN': 169.0, 'FN': 43.0}\n",
      "{'TP': 960.0, 'FP': 666.0, 'TN': 178.0, 'FN': 46.0}\n",
      "{'TP': 957.0, 'FP': 658.0, 'TN': 186.0, 'FN': 49.0}\n",
      "{'TP': 953.0, 'FP': 654.0, 'TN': 190.0, 'FN': 53.0}\n",
      "{'TP': 951.0, 'FP': 639.0, 'TN': 205.0, 'FN': 55.0}\n",
      "{'TP': 947.0, 'FP': 631.0, 'TN': 213.0, 'FN': 59.0}\n",
      "{'TP': 944.0, 'FP': 623.0, 'TN': 221.0, 'FN': 62.0}\n",
      "{'TP': 940.0, 'FP': 614.0, 'TN': 230.0, 'FN': 66.0}\n",
      "{'TP': 935.0, 'FP': 597.0, 'TN': 247.0, 'FN': 71.0}\n",
      "{'TP': 934.0, 'FP': 584.0, 'TN': 260.0, 'FN': 72.0}\n",
      "{'TP': 931.0, 'FP': 570.0, 'TN': 274.0, 'FN': 75.0}\n",
      "{'TP': 929.0, 'FP': 562.0, 'TN': 282.0, 'FN': 77.0}\n",
      "{'TP': 919.0, 'FP': 547.0, 'TN': 297.0, 'FN': 87.0}\n",
      "{'TP': 913.0, 'FP': 540.0, 'TN': 304.0, 'FN': 93.0}\n",
      "{'TP': 904.0, 'FP': 526.0, 'TN': 318.0, 'FN': 102.0}\n",
      "{'TP': 895.0, 'FP': 513.0, 'TN': 331.0, 'FN': 111.0}\n",
      "{'TP': 888.0, 'FP': 502.0, 'TN': 342.0, 'FN': 118.0}\n",
      "{'TP': 876.0, 'FP': 492.0, 'TN': 352.0, 'FN': 130.0}\n",
      "{'TP': 864.0, 'FP': 478.0, 'TN': 366.0, 'FN': 142.0}\n",
      "{'TP': 854.0, 'FP': 465.0, 'TN': 379.0, 'FN': 152.0}\n",
      "{'TP': 840.0, 'FP': 446.0, 'TN': 398.0, 'FN': 166.0}\n",
      "{'TP': 826.0, 'FP': 439.0, 'TN': 405.0, 'FN': 180.0}\n",
      "{'TP': 815.0, 'FP': 420.0, 'TN': 424.0, 'FN': 191.0}\n",
      "{'TP': 804.0, 'FP': 406.0, 'TN': 438.0, 'FN': 202.0}\n",
      "{'TP': 795.0, 'FP': 390.0, 'TN': 454.0, 'FN': 211.0}\n",
      "{'TP': 772.0, 'FP': 368.0, 'TN': 476.0, 'FN': 234.0}\n",
      "{'TP': 766.0, 'FP': 352.0, 'TN': 492.0, 'FN': 240.0}\n",
      "{'TP': 755.0, 'FP': 338.0, 'TN': 506.0, 'FN': 251.0}\n",
      "{'TP': 733.0, 'FP': 324.0, 'TN': 520.0, 'FN': 273.0}\n",
      "{'TP': 717.0, 'FP': 313.0, 'TN': 531.0, 'FN': 289.0}\n",
      "{'TP': 704.0, 'FP': 297.0, 'TN': 547.0, 'FN': 302.0}\n",
      "{'TP': 688.0, 'FP': 286.0, 'TN': 558.0, 'FN': 318.0}\n",
      "{'TP': 662.0, 'FP': 253.0, 'TN': 591.0, 'FN': 344.0}\n",
      "{'TP': 653.0, 'FP': 251.0, 'TN': 593.0, 'FN': 353.0}\n",
      "{'TP': 625.0, 'FP': 232.0, 'TN': 612.0, 'FN': 381.0}\n",
      "{'TP': 617.0, 'FP': 225.0, 'TN': 619.0, 'FN': 389.0}\n",
      "{'TP': 611.0, 'FP': 214.0, 'TN': 630.0, 'FN': 395.0}\n",
      "{'TP': 601.0, 'FP': 207.0, 'TN': 637.0, 'FN': 405.0}\n",
      "{'TP': 576.0, 'FP': 194.0, 'TN': 650.0, 'FN': 430.0}\n",
      "{'TP': 551.0, 'FP': 186.0, 'TN': 658.0, 'FN': 455.0}\n",
      "{'TP': 540.0, 'FP': 180.0, 'TN': 664.0, 'FN': 466.0}\n",
      "{'TP': 511.0, 'FP': 170.0, 'TN': 674.0, 'FN': 495.0}\n",
      "{'TP': 468.0, 'FP': 155.0, 'TN': 689.0, 'FN': 538.0}\n",
      "{'TP': 443.0, 'FP': 146.0, 'TN': 698.0, 'FN': 563.0}\n",
      "{'TP': 429.0, 'FP': 138.0, 'TN': 706.0, 'FN': 577.0}\n",
      "{'TP': 361.0, 'FP': 109.0, 'TN': 735.0, 'FN': 645.0}\n",
      "{'TP': 343.0, 'FP': 104.0, 'TN': 740.0, 'FN': 663.0}\n",
      "{'TP': 321.0, 'FP': 95.0, 'TN': 749.0, 'FN': 685.0}\n",
      "{'TP': 303.0, 'FP': 92.0, 'TN': 752.0, 'FN': 703.0}\n",
      "{'TP': 269.0, 'FP': 81.0, 'TN': 763.0, 'FN': 737.0}\n",
      "{'TP': 254.0, 'FP': 77.0, 'TN': 767.0, 'FN': 752.0}\n",
      "{'TP': 241.0, 'FP': 72.0, 'TN': 772.0, 'FN': 765.0}\n",
      "{'TP': 208.0, 'FP': 62.0, 'TN': 782.0, 'FN': 798.0}\n",
      "{'TP': 194.0, 'FP': 53.0, 'TN': 791.0, 'FN': 812.0}\n",
      "{'TP': 169.0, 'FP': 38.0, 'TN': 806.0, 'FN': 837.0}\n",
      "{'TP': 166.0, 'FP': 38.0, 'TN': 806.0, 'FN': 840.0}\n",
      "{'TP': 161.0, 'FP': 36.0, 'TN': 808.0, 'FN': 845.0}\n",
      "{'TP': 122.0, 'FP': 29.0, 'TN': 815.0, 'FN': 884.0}\n",
      "{'TP': 117.0, 'FP': 27.0, 'TN': 817.0, 'FN': 889.0}\n",
      "{'TP': 107.0, 'FP': 24.0, 'TN': 820.0, 'FN': 899.0}\n",
      "{'TP': 98.0, 'FP': 22.0, 'TN': 822.0, 'FN': 908.0}\n",
      "{'TP': 89.0, 'FP': 20.0, 'TN': 824.0, 'FN': 917.0}\n",
      "{'TP': 79.0, 'FP': 20.0, 'TN': 824.0, 'FN': 927.0}\n",
      "{'TP': 70.0, 'FP': 19.0, 'TN': 825.0, 'FN': 936.0}\n",
      "{'TP': 68.0, 'FP': 19.0, 'TN': 825.0, 'FN': 938.0}\n",
      "{'TP': 64.0, 'FP': 17.0, 'TN': 827.0, 'FN': 942.0}\n",
      "{'TP': 53.0, 'FP': 17.0, 'TN': 827.0, 'FN': 953.0}\n",
      "{'TP': 51.0, 'FP': 17.0, 'TN': 827.0, 'FN': 955.0}\n",
      "{'TP': 47.0, 'FP': 16.0, 'TN': 828.0, 'FN': 959.0}\n",
      "{'TP': 45.0, 'FP': 15.0, 'TN': 829.0, 'FN': 961.0}\n",
      "{'TP': 41.0, 'FP': 15.0, 'TN': 829.0, 'FN': 965.0}\n",
      "{'TP': 35.0, 'FP': 15.0, 'TN': 829.0, 'FN': 971.0}\n",
      "{'TP': 31.0, 'FP': 15.0, 'TN': 829.0, 'FN': 975.0}\n",
      "{'TP': 31.0, 'FP': 15.0, 'TN': 829.0, 'FN': 975.0}\n",
      "{'TP': 30.0, 'FP': 15.0, 'TN': 829.0, 'FN': 976.0}\n",
      "{'TP': 30.0, 'FP': 15.0, 'TN': 829.0, 'FN': 976.0}\n",
      "Best balanced accuracy (no reweighing) = 0.6791\n",
      "Optimal classification threshold (no reweighing) = 0.5643\n"
     ]
    }
   ],
   "source": [
    "num_thresh = 100\n",
    "ba_arr = np.zeros(num_thresh)\n",
    "class_thresh_arr = np.linspace(0.01, 0.99, num_thresh)\n",
    "for idx, class_thresh in enumerate(class_thresh_arr):\n",
    "    \n",
    "    fav_inds = dataset_orig_valid_pred.scores > class_thresh\n",
    "    dataset_orig_valid_pred.labels[fav_inds] = dataset_orig_valid_pred.favorable_label\n",
    "    dataset_orig_valid_pred.labels[~fav_inds] = dataset_orig_valid_pred.unfavorable_label\n",
    "    \n",
    "    classified_metric_orig_valid = ClassificationMetric(dataset_orig_val,\n",
    "                                             dataset_orig_valid_pred, \n",
    "                                             unprivileged_groups=unprivileged_groups,\n",
    "                                             privileged_groups=privileged_groups)\n",
    "    print(classified_metric_orig_valid.binary_confusion_matrix())\n",
    "    \n",
    "    ba_arr[idx] = 0.5*(classified_metric_orig_valid.true_positive_rate()\\\n",
    "                       +classified_metric_orig_valid.true_negative_rate())\n",
    "\n",
    "best_ind = np.where(ba_arr == np.max(ba_arr))[0][0]\n",
    "best_class_thresh = class_thresh_arr[best_ind]\n",
    "\n",
    "print(\"Best balanced accuracy (no reweighing) = %.4f\" % np.max(ba_arr))\n",
    "print(\"Optimal classification threshold (no reweighing) = %.4f\" % best_class_thresh)"
   ]
  },
  {
   "cell_type": "code",
   "execution_count": 14,
   "id": "6fe8a417-c436-4af3-80b1-7a390865b920",
   "metadata": {},
   "outputs": [
    {
     "data": {
      "text/markdown": [
       "#### Predictions from original testing data"
      ],
      "text/plain": [
       "<IPython.core.display.Markdown object>"
      ]
     },
     "metadata": {},
     "output_type": "display_data"
    },
    {
     "name": "stderr",
     "output_type": "stream",
     "text": [
      " 35%|███▌      | 35/100 [00:00<00:00, 197.66it/s]"
     ]
    },
    {
     "name": "stdout",
     "output_type": "stream",
     "text": [
      "Classification threshold used = 0.5643\n"
     ]
    },
    {
     "name": "stderr",
     "output_type": "stream",
     "text": [
      "100%|██████████| 100/100 [00:00<00:00, 337.87it/s]"
     ]
    },
    {
     "name": "stdout",
     "output_type": "stream",
     "text": [
      "Balanced accuracy = 0.6440\n",
      "Statistical parity difference = -0.3485\n",
      "Disparate impact = 0.5486\n",
      "Average odds difference = -0.3282\n",
      "Equal opportunity difference = -0.3154\n",
      "Theil index = 0.2855\n"
     ]
    },
    {
     "name": "stderr",
     "output_type": "stream",
     "text": [
      "\n"
     ]
    }
   ],
   "source": [
    "display(Markdown(\"#### Predictions from original testing data\"))\n",
    "bal_acc_arr_orig = []\n",
    "disp_imp_arr_orig = []\n",
    "avg_odds_diff_arr_orig = []\n",
    "\n",
    "print(\"Classification threshold used = %.4f\" % best_class_thresh)\n",
    "for thresh in tqdm(class_thresh_arr):\n",
    "    \n",
    "    if thresh == best_class_thresh:\n",
    "        disp = True\n",
    "    else:\n",
    "        disp = False\n",
    "    \n",
    "    fav_inds = dataset_orig_test_pred.scores > thresh\n",
    "    dataset_orig_test_pred.labels[fav_inds] = dataset_orig_test_pred.favorable_label\n",
    "    dataset_orig_test_pred.labels[~fav_inds] = dataset_orig_test_pred.unfavorable_label\n",
    "    \n",
    "    metric_test_bef = compute_metrics(dataset_orig_test, dataset_orig_test_pred, \n",
    "                                      unprivileged_groups, privileged_groups,\n",
    "                                      disp = disp)\n",
    "\n",
    "    bal_acc_arr_orig.append(metric_test_bef[\"Balanced accuracy\"])\n",
    "    avg_odds_diff_arr_orig.append(metric_test_bef[\"Average odds difference\"])\n",
    "    disp_imp_arr_orig.append(metric_test_bef[\"Disparate impact\"])"
   ]
  },
  {
   "cell_type": "code",
   "execution_count": 17,
   "id": "17dd2814-4dc0-40a1-a145-087e5c4f9d43",
   "metadata": {},
   "outputs": [
    {
     "data": {
      "image/png": "[encoded data removed]",
      "text/plain": [
       "<Figure size 720x504 with 2 Axes>"
      ]
     },
     "metadata": {
      "needs_background": "light"
     },
     "output_type": "display_data"
    }
   ],
   "source": [
    "fig, ax1 = plt.subplots(figsize=(10,7))\n",
    "ax1.plot(class_thresh_arr, bal_acc_arr_orig)\n",
    "ax1.set_xlabel('Classification Thresholds', fontsize=16, fontweight='bold')\n",
    "ax1.set_ylabel('Balanced Accuracy', color='b', fontsize=16, fontweight='bold')\n",
    "ax1.xaxis.set_tick_params(labelsize=14)\n",
    "ax1.yaxis.set_tick_params(labelsize=14)\n",
    "\n",
    "\n",
    "ax2 = ax1.twinx()\n",
    "ax2.plot(class_thresh_arr, np.abs(1.0-np.array(disp_imp_arr_orig)), color='r')\n",
    "ax2.set_ylabel('abs(1-disparate impact)', color='r', fontsize=16, fontweight='bold')\n",
    "ax2.axvline(best_class_thresh, color='k', linestyle=':')\n",
    "ax2.yaxis.set_tick_params(labelsize=14)\n",
    "ax2.grid(True)"
   ]
  },
  {
   "cell_type": "code",
   "execution_count": 7,
   "id": "06636a7c-b6f1-49d6-88c2-7aab152ccc53",
   "metadata": {},
   "outputs": [
    {
     "name": "stdout",
     "output_type": "stream",
     "text": [
      "Balanced accuracy = 0.6440\n",
      "Statistical parity difference = -0.3485\n",
      "Disparate impact = 0.5486\n",
      "Average odds difference = -0.3282\n",
      "Equal opportunity difference = -0.3154\n",
      "Theil index = 0.2855\n"
     ]
    }
   ],
   "source": [
    "# Compute metrics for best thresh\n",
    "fav_inds = dataset_orig_test_pred.scores > best_class_thresh\n",
    "dataset_orig_test_pred.labels[fav_inds] = dataset_orig_test_pred.favorable_label\n",
    "dataset_orig_test_pred.labels[~fav_inds] = dataset_orig_test_pred.unfavorable_label\n",
    "\n",
    "classifier_metrics = ClassifierMetricUtils(dataset_orig_test, dataset_orig_test_pred, \n",
    "                                      unprivileged_groups, privileged_groups)\n",
    "\n",
    "classifier_metrics.compute_metrics()"
   ]
  },
  {
   "cell_type": "code",
   "execution_count": null,
   "id": "6858d8a0-4a20-4586-97f6-5e749cca23bd",
   "metadata": {},
   "outputs": [],
   "source": []
  },
  {
   "cell_type": "code",
   "execution_count": 84,
   "id": "b22e396e-c550-46f5-b01e-6a85a6600184",
   "metadata": {},
   "outputs": [
    {
     "name": "stdout",
     "output_type": "stream",
     "text": [
      "Balanced accuracy = 0.6440\n",
      "Statistical parity difference = -0.3485\n",
      "Disparate impact = 0.5486\n",
      "Average odds difference = -0.3282\n",
      "Equal opportunity difference = -0.3154\n",
      "Theil index = 0.2855\n"
     ]
    },
    {
     "ename": "AttributeError",
     "evalue": "module 'aif360.utils.common_utils' has no attribute 'get_metric'",
     "output_type": "error",
     "traceback": [
      "\u001b[0;31m---------------------------------------------------------------------------\u001b[0m",
      "\u001b[0;31mAttributeError\u001b[0m                            Traceback (most recent call last)",
      "\u001b[0;32m<ipython-input-84-541a3e40b5f7>\u001b[0m in \u001b[0;36m<module>\u001b[0;34m\u001b[0m\n\u001b[1;32m      2\u001b[0m                                                     \u001b[0mdataset_orig_test_pred\u001b[0m\u001b[0;34m,\u001b[0m\u001b[0;34m\u001b[0m\u001b[0;34m\u001b[0m\u001b[0m\n\u001b[1;32m      3\u001b[0m                                                     unprivileged_groups, privileged_groups)\n\u001b[0;32m----> 4\u001b[0;31m \u001b[0mutils\u001b[0m\u001b[0;34m.\u001b[0m\u001b[0mget_metric\u001b[0m\u001b[0;34m(\u001b[0m\u001b[0mclassifier_metric\u001b[0m\u001b[0;34m)\u001b[0m\u001b[0;34m\u001b[0m\u001b[0;34m\u001b[0m\u001b[0m\n\u001b[0m\u001b[1;32m      5\u001b[0m \u001b[0mutils\u001b[0m\u001b[0;34m.\u001b[0m\u001b[0mget_explanation\u001b[0m\u001b[0;34m(\u001b[0m\u001b[0mclassifier_metric\u001b[0m\u001b[0;34m)\u001b[0m\u001b[0;34m\u001b[0m\u001b[0;34m\u001b[0m\u001b[0m\n",
      "\u001b[0;31mAttributeError\u001b[0m: module 'aif360.utils.common_utils' has no attribute 'get_metric'"
     ]
    }
   ],
   "source": [
    "classifier_metric = utils.compute_metrics(dataset_orig_test,\n",
    "                                                    dataset_orig_test_pred,\n",
    "                                                    unprivileged_groups, privileged_groups)\n",
    "utils.get_metric(classifier_metric)\n",
    "utils.get_explanation(classifier_metric)"
   ]
  },
  {
   "cell_type": "code",
   "execution_count": null,
   "id": "6f048534-19ac-4288-8261-bcfd77e86048",
   "metadata": {},
   "outputs": [],
   "source": []
  },
  {
   "cell_type": "code",
   "execution_count": null,
   "id": "96c1bc79-783c-4c9c-8f90-3617f4661287",
   "metadata": {},
   "outputs": [],
   "source": []
  }
 ],
 "metadata": {
  "kernelspec": {
   "display_name": "Python 3",
   "language": "python",
   "name": "python3"
  },
  "language_info": {
   "codemirror_mode": {
    "name": "ipython",
    "version": 3
   },
   "file_extension": ".py",
   "mimetype": "text/x-python",
   "name": "python",
   "nbconvert_exporter": "python",
   "pygments_lexer": "ipython3",
   "version": "3.8.10"
  }
 },
 "nbformat": 4,
 "nbformat_minor": 5
}
